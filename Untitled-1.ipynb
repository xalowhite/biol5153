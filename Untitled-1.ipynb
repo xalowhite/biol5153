{
 "cells": [
  {
   "cell_type": "code",
   "execution_count": 87,
   "metadata": {},
   "outputs": [],
   "source": [
    "from collections import defaultdict\n",
    "import csv\n",
    "\n",
    "# declare our input file\n",
    "input_file = '/Users/carterw/School Stuff/Semester 10/Practical Programming for Biologists/biol5153/presidents.csv'"
   ]
  },
  {
   "cell_type": "code",
   "execution_count": 88,
   "metadata": {},
   "outputs": [],
   "source": [
    "# declare our dictionary; key = president's number , value = president's name\n",
    "presidents = defaultdict(str)\n",
    "\n",
    "# declare our dictionary; key = president's name , value = wikipedia page\n",
    "wikis = defaultdict(str)\n",
    "\n",
    "\n",
    "with open(input_file, 'r') as prez_file:\n",
    "    for line in prez_file:\n",
    "        line = line.strip()\n",
    "        \n",
    "        # split the line into columns\n",
    "        columns = line.split(',')\n",
    "\n",
    "        #strip annoying random whitespace from data\n",
    "        num = columns[0].strip()\n",
    "        name = columns[1].strip()\n",
    "        party = columns[5].strip()\n",
    "        wiki = columns[2].strip()\n",
    "        \n",
    "        \n",
    "        if(name == 'President'):\n",
    "            continue\n",
    "        else:\n",
    "            #print('--' + name + '--' + party)\n",
    "            presidents[num] = name\n",
    "            wikis[name] = wiki"
   ]
  },
  {
   "cell_type": "code",
   "execution_count": 89,
   "metadata": {},
   "outputs": [
    {
     "name": "stdout",
     "output_type": "stream",
     "text": [
      "Abraham Lincoln\n",
      "George Washington\n",
      "Calvin Coolidge\n",
      "Barack Obama\n",
      "George Washington\n"
     ]
    }
   ],
   "source": [
    "#get stuff out of our dictionary\n",
    "print(presidents.get('16'))\n",
    "print(presidents.get('1'))\n",
    "print(presidents.get('30'))\n",
    "print(presidents.get('44'))\n",
    "print(presidents['1'])\n"
   ]
  },
  {
   "cell_type": "code",
   "execution_count": 90,
   "metadata": {},
   "outputs": [
    {
     "name": "stdout",
     "output_type": "stream",
     "text": [
      "1\n",
      "2\n",
      "3\n",
      "4\n",
      "5\n",
      "6\n",
      "7\n",
      "8\n",
      "9\n",
      "10\n",
      "11\n",
      "12\n",
      "13\n",
      "14\n",
      "15\n",
      "16\n",
      "17\n",
      "18\n",
      "19\n",
      "20\n",
      "21\n",
      "22\n",
      "23\n",
      "24\n",
      "25\n",
      "26\n",
      "27\n",
      "28\n",
      "29\n",
      "30\n",
      "31\n",
      "32\n",
      "33\n",
      "34\n",
      "35\n",
      "36\n",
      "37\n",
      "38\n",
      "39\n",
      "40\n",
      "41\n",
      "42\n",
      "43\n",
      "44\n"
     ]
    }
   ],
   "source": [
    "#loop over the dictionary \n",
    "for num in presidents.keys():\n",
    "    print(num)"
   ]
  },
  {
   "cell_type": "code",
   "execution_count": 91,
   "metadata": {},
   "outputs": [
    {
     "name": "stdout",
     "output_type": "stream",
     "text": [
      "George Washington http://en.wikipedia.org/wiki/George_Washington\n",
      "John Adams http://en.wikipedia.org/wiki/John_Adams\n",
      "Thomas Jefferson http://en.wikipedia.org/wiki/Thomas_Jefferson\n",
      "James Madison http://en.wikipedia.org/wiki/James_Madison\n",
      "James Monroe http://en.wikipedia.org/wiki/James_Monroe\n",
      "John Quincy Adams http://en.wikipedia.org/wiki/John_Quincy_Adams\n",
      "Andrew Jackson http://en.wikipedia.org/wiki/Andrew_Jackson\n",
      "Martin Van Buren http://en.wikipedia.org/wiki/Martin_Van_Buren\n",
      "William Henry Harrison http://en.wikipedia.org/wiki/William_Henry_Harrison\n",
      "John Tyler http://en.wikipedia.org/wiki/John_Tyler\n",
      "James K. Polk http://en.wikipedia.org/wiki/James_K._Polk\n",
      "Zachary Taylor http://en.wikipedia.org/wiki/Zachary_Taylor\n",
      "Millard Fillmore http://en.wikipedia.org/wiki/Millard_Fillmore\n",
      "Franklin Pierce http://en.wikipedia.org/wiki/Franklin_Pierce\n",
      "James Buchanan http://en.wikipedia.org/wiki/James_Buchanan\n",
      "Abraham Lincoln http://en.wikipedia.org/wiki/Abraham_Lincoln\n",
      "Andrew Johnson http://en.wikipedia.org/wiki/Andrew_Johnson\n",
      "Ulysses S. Grant http://en.wikipedia.org/wiki/Ulysses_S._Grant\n",
      "Rutherford B. Hayes http://en.wikipedia.org/wiki/Rutherford_B._Hayes\n",
      "James A. Garfield http://en.wikipedia.org/wiki/James_A._Garfield\n",
      "Chester A. Arthur http://en.wikipedia.org/wiki/Chester_A._Arthur\n",
      "Grover Cleveland http://en.wikipedia.org/wiki/Grover_Cleveland\n",
      "Benjamin Harrison http://en.wikipedia.org/wiki/Benjamin_Harrison\n",
      "Grover Cleveland (2nd term) http://en.wikipedia.org/wiki/Grover_Cleveland\n",
      "William McKinley http://en.wikipedia.org/wiki/William_McKinley\n",
      "Theodore Roosevelt http://en.wikipedia.org/wiki/Theodore_Roosevelt\n",
      "William Howard Taft http://en.wikipedia.org/wiki/William_Howard_Taft\n",
      "Woodrow Wilson http://en.wikipedia.org/wiki/Woodrow_Wilson\n",
      "Warren G. Harding http://en.wikipedia.org/wiki/Warren_G._Harding\n",
      "Calvin Coolidge http://en.wikipedia.org/wiki/Calvin_Coolidge\n",
      "Herbert Hoover http://en.wikipedia.org/wiki/Herbert_Hoover\n",
      "Franklin D. Roosevelt http://en.wikipedia.org/wiki/Franklin_D._Roosevelt\n",
      "Harry S. Truman http://en.wikipedia.org/wiki/Harry_S._Truman\n",
      "Dwight D. Eisenhower http://en.wikipedia.org/wiki/Dwight_D._Eisenhower\n",
      "John F. Kennedy http://en.wikipedia.org/wiki/John_F._Kennedy\n",
      "Lyndon B. Johnson http://en.wikipedia.org/wiki/Lyndon_B._Johnson\n",
      "Richard Nixon http://en.wikipedia.org/wiki/Richard_Nixon\n",
      "Gerald Ford http://en.wikipedia.org/wiki/Gerald_Ford\n",
      "Jimmy Carter http://en.wikipedia.org/wiki/Jimmy_Carter\n",
      "Ronald Reagan http://en.wikipedia.org/wiki/Ronald_Reagan\n",
      "George H. W. Bush http://en.wikipedia.org/wiki/George_H._W._Bush\n",
      "Bill Clinton http://en.wikipedia.org/wiki/Bill_Clinton\n",
      "George W. Bush http://en.wikipedia.org/wiki/George_W._Bush\n",
      "Barack Obama http://en.wikipedia.org/wiki/Barack_Obama\n"
     ]
    }
   ],
   "source": [
    "#a little better way to loop over a dictionary\n",
    "for name, wiki in wikis.items():\n",
    "    print(name, wiki)"
   ]
  }
 ],
 "metadata": {
  "kernelspec": {
   "display_name": "Python 3",
   "language": "python",
   "name": "python3"
  },
  "language_info": {
   "codemirror_mode": {
    "name": "ipython",
    "version": 3
   },
   "file_extension": ".py",
   "mimetype": "text/x-python",
   "name": "python",
   "nbconvert_exporter": "python",
   "pygments_lexer": "ipython3",
   "version": "3.10.5"
  }
 },
 "nbformat": 4,
 "nbformat_minor": 2
}
